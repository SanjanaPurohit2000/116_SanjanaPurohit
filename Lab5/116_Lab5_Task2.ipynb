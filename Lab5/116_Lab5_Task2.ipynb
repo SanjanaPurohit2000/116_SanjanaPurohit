{
  "nbformat": 4,
  "nbformat_minor": 0,
  "metadata": {
    "colab": {
      "name": "116_Lab5_Task2.ipynb",
      "provenance": [],
      "authorship_tag": "ABX9TyMN3bCGFUsr1Hm+CkDBWz7Y",
      "include_colab_link": true
    },
    "kernelspec": {
      "name": "python3",
      "display_name": "Python 3"
    },
    "language_info": {
      "name": "python"
    }
  },
  "cells": [
    {
      "cell_type": "markdown",
      "metadata": {
        "id": "view-in-github",
        "colab_type": "text"
      },
      "source": [
        "<a href=\"https://colab.research.google.com/github/SanjanaPurohit2000/116_SanjanaPurohit/blob/master/Lab5/116_Lab5_Task2.ipynb\" target=\"_parent\"><img src=\"https://colab.research.google.com/assets/colab-badge.svg\" alt=\"Open In Colab\"/></a>"
      ]
    },
    {
      "cell_type": "markdown",
      "metadata": {
        "id": "baomzxas6HOQ"
      },
      "source": [
        "\n",
        "Linear Regression Model using PyTorch built-ins\n",
        "\n",
        "Let's re-implement the same model using some built-in functions and classes from PyTorch.\n",
        "\n",
        "\n",
        "And now using two different targets: Apples and Oranges"
      ]
    },
    {
      "cell_type": "code",
      "metadata": {
        "id": "d0tKjF8n6BFC"
      },
      "source": [
        "# Import Numpy & PyTorch\n",
        "import numpy as np\n",
        "import torch"
      ],
      "execution_count": null,
      "outputs": []
    },
    {
      "cell_type": "code",
      "metadata": {
        "id": "DMV-N3Cg6Tcf"
      },
      "source": [
        "# Imports\n",
        "import torch.nn as nn"
      ],
      "execution_count": null,
      "outputs": []
    },
    {
      "cell_type": "code",
      "metadata": {
        "id": "SVy9Qifn6W2r"
      },
      "source": [
        "# Input (temp, rainfall, humidity)\n",
        "inputs = np.array([[73, 67, 43], [91, 88, 64], [87, 134, 58], [102, 43, 37], [69, 96, 70], [73, 67, 43], [91, 88, 64], [87, 134, 58], [102, 43, 37], [69, 96, 70], [73, 67, 43], [91, 88, 64], [87, 134, 58], [102, 43, 37], [69, 96, 70]], dtype='float32')\n",
        "# Targets (apples, oranges)\n",
        "targets = np.array([[56, 70], [81, 101], [119, 133], [22, 37], [103, 119], \n",
        "                    [56, 70], [81, 101], [119, 133], [22, 37], [103, 119], \n",
        "                    [56, 70], [81, 101], [119, 133], [22, 37], [103, 119]], dtype='float32')"
      ],
      "execution_count": null,
      "outputs": []
    },
    {
      "cell_type": "code",
      "metadata": {
        "colab": {
          "base_uri": "https://localhost:8080/"
        },
        "id": "QvxSkb2m6cib",
        "outputId": "fede23cb-1b07-4e08-a7d3-0a48c9318e1e"
      },
      "source": [
        "inputs = torch.from_numpy(inputs)\n",
        "targets = torch.from_numpy(targets)\n",
        "print(\"Inputs : \\n\",inputs)\n",
        "print(\"Targets : \\n\",targets)"
      ],
      "execution_count": null,
      "outputs": [
        {
          "output_type": "stream",
          "name": "stdout",
          "text": [
            "Inputs : \n",
            " tensor([[ 73.,  67.,  43.],\n",
            "        [ 91.,  88.,  64.],\n",
            "        [ 87., 134.,  58.],\n",
            "        [102.,  43.,  37.],\n",
            "        [ 69.,  96.,  70.],\n",
            "        [ 73.,  67.,  43.],\n",
            "        [ 91.,  88.,  64.],\n",
            "        [ 87., 134.,  58.],\n",
            "        [102.,  43.,  37.],\n",
            "        [ 69.,  96.,  70.],\n",
            "        [ 73.,  67.,  43.],\n",
            "        [ 91.,  88.,  64.],\n",
            "        [ 87., 134.,  58.],\n",
            "        [102.,  43.,  37.],\n",
            "        [ 69.,  96.,  70.]])\n",
            "Targets : \n",
            " tensor([[ 56.,  70.],\n",
            "        [ 81., 101.],\n",
            "        [119., 133.],\n",
            "        [ 22.,  37.],\n",
            "        [103., 119.],\n",
            "        [ 56.,  70.],\n",
            "        [ 81., 101.],\n",
            "        [119., 133.],\n",
            "        [ 22.,  37.],\n",
            "        [103., 119.],\n",
            "        [ 56.,  70.],\n",
            "        [ 81., 101.],\n",
            "        [119., 133.],\n",
            "        [ 22.,  37.],\n",
            "        [103., 119.]])\n"
          ]
        }
      ]
    },
    {
      "cell_type": "code",
      "metadata": {
        "id": "3virccuj6gfo"
      },
      "source": [
        "# Import tensor dataset & data loader\n",
        "from torch.utils.data import TensorDataset, DataLoader"
      ],
      "execution_count": null,
      "outputs": []
    },
    {
      "cell_type": "markdown",
      "metadata": {
        "id": "lDr2o3Ep7ez4"
      },
      "source": [
        "Dataset and DataLoader\n",
        "\n",
        "We'll create a TensorDataset, which allows access to rows from inputs and targets as tuples. We'll also create a DataLoader, to split the data into batches while training. It also provides other utilities like shuffling and sampling."
      ]
    },
    {
      "cell_type": "code",
      "metadata": {
        "colab": {
          "base_uri": "https://localhost:8080/"
        },
        "id": "6GsvKRbU6gw8",
        "outputId": "fc819cc0-c505-4938-dfd5-b6c652b05743"
      },
      "source": [
        "# Define dataset\n",
        "train_ds = TensorDataset(inputs, targets)\n",
        "train_ds[0:3]"
      ],
      "execution_count": null,
      "outputs": [
        {
          "output_type": "execute_result",
          "data": {
            "text/plain": [
              "(tensor([[ 73.,  67.,  43.],\n",
              "         [ 91.,  88.,  64.],\n",
              "         [ 87., 134.,  58.]]), tensor([[ 56.,  70.],\n",
              "         [ 81., 101.],\n",
              "         [119., 133.]]))"
            ]
          },
          "metadata": {},
          "execution_count": 6
        }
      ]
    },
    {
      "cell_type": "code",
      "metadata": {
        "id": "1dK_zQ3e6lfg"
      },
      "source": [
        "# Define data loader\n",
        "batch_size = 5\n",
        "train_dl = DataLoader(train_ds, batch_size, shuffle=True)"
      ],
      "execution_count": null,
      "outputs": []
    },
    {
      "cell_type": "code",
      "metadata": {
        "colab": {
          "base_uri": "https://localhost:8080/"
        },
        "id": "nWF3YGXz6ps3",
        "outputId": "e69b9902-66f9-485b-d57e-40fb01ae9095"
      },
      "source": [
        "for xb, yb in train_dl:\n",
        "    print(xb)\n",
        "    print(yb)\n",
        "    break"
      ],
      "execution_count": null,
      "outputs": [
        {
          "output_type": "stream",
          "name": "stdout",
          "text": [
            "tensor([[ 69.,  96.,  70.],\n",
            "        [ 69.,  96.,  70.],\n",
            "        [ 91.,  88.,  64.],\n",
            "        [ 73.,  67.,  43.],\n",
            "        [102.,  43.,  37.]])\n",
            "tensor([[103., 119.],\n",
            "        [103., 119.],\n",
            "        [ 81., 101.],\n",
            "        [ 56.,  70.],\n",
            "        [ 22.,  37.]])\n"
          ]
        }
      ]
    },
    {
      "cell_type": "code",
      "metadata": {
        "colab": {
          "base_uri": "https://localhost:8080/"
        },
        "id": "eryCYBbv6v5C",
        "outputId": "ec8d74b1-f308-42d7-cdd8-31ce1df903ef"
      },
      "source": [
        "# Define model\n",
        "model = nn.Linear(3, 2)\n",
        "print(model.weight)\n",
        "print(model.bias)\n"
      ],
      "execution_count": null,
      "outputs": [
        {
          "output_type": "stream",
          "name": "stdout",
          "text": [
            "Parameter containing:\n",
            "tensor([[-0.1615,  0.2295, -0.4187],\n",
            "        [ 0.5356, -0.0982, -0.5332]], requires_grad=True)\n",
            "Parameter containing:\n",
            "tensor([0.0344, 0.0922], requires_grad=True)\n"
          ]
        }
      ]
    },
    {
      "cell_type": "markdown",
      "metadata": {
        "id": "HAK8Mxm37p62"
      },
      "source": [
        "\n",
        "nn.Linear\n",
        "\n",
        "Instead of initializing the weights & biases manually, we can define the model using nn.Linear."
      ]
    },
    {
      "cell_type": "code",
      "metadata": {
        "colab": {
          "base_uri": "https://localhost:8080/"
        },
        "id": "F2-lNhCa6y9I",
        "outputId": "f137b3a8-a928-4cb2-8aca-9d26a459a2b1"
      },
      "source": [
        "# Parameters\n",
        "list(model.parameters())"
      ],
      "execution_count": null,
      "outputs": [
        {
          "output_type": "execute_result",
          "data": {
            "text/plain": [
              "[Parameter containing:\n",
              " tensor([[-0.1615,  0.2295, -0.4187],\n",
              "         [ 0.5356, -0.0982, -0.5332]], requires_grad=True),\n",
              " Parameter containing:\n",
              " tensor([0.0344, 0.0922], requires_grad=True)]"
            ]
          },
          "metadata": {},
          "execution_count": 10
        }
      ]
    },
    {
      "cell_type": "code",
      "metadata": {
        "colab": {
          "base_uri": "https://localhost:8080/"
        },
        "id": "kwLOCH-563JE",
        "outputId": "17e457ce-fc67-4f3c-f11c-b9d4474206d3"
      },
      "source": [
        "# Generate predictions\n",
        "preds = model(inputs)\n",
        "preds"
      ],
      "execution_count": null,
      "outputs": [
        {
          "output_type": "execute_result",
          "data": {
            "text/plain": [
              "tensor([[-14.3831,   9.6800],\n",
              "        [-21.2636,   6.0602],\n",
              "        [ -7.5485,   2.5991],\n",
              "        [-22.0619,  30.7683],\n",
              "        [-18.3872,  -9.7076],\n",
              "        [-14.3831,   9.6800],\n",
              "        [-21.2636,   6.0602],\n",
              "        [ -7.5485,   2.5991],\n",
              "        [-22.0619,  30.7683],\n",
              "        [-18.3872,  -9.7076],\n",
              "        [-14.3831,   9.6800],\n",
              "        [-21.2636,   6.0602],\n",
              "        [ -7.5485,   2.5991],\n",
              "        [-22.0619,  30.7683],\n",
              "        [-18.3872,  -9.7076]], grad_fn=<AddmmBackward>)"
            ]
          },
          "metadata": {},
          "execution_count": 11
        }
      ]
    },
    {
      "cell_type": "code",
      "metadata": {
        "id": "L5HYwz6w66sE"
      },
      "source": [
        "# Define optimizer\n",
        "opt = torch.optim.SGD(model.parameters(), lr=1e-5)"
      ],
      "execution_count": null,
      "outputs": []
    },
    {
      "cell_type": "code",
      "metadata": {
        "id": "EZXZbpFu69Ia"
      },
      "source": [
        "# Import nn.functional\n",
        "import torch.nn.functional as F"
      ],
      "execution_count": null,
      "outputs": []
    },
    {
      "cell_type": "markdown",
      "metadata": {
        "id": "xWPqwlkw7vbb"
      },
      "source": [
        "\n",
        "Loss Function\n",
        "\n",
        "Instead of defining a loss function manually, we can use the built-in loss function mse_loss."
      ]
    },
    {
      "cell_type": "code",
      "metadata": {
        "id": "A3lt_VLZ6_-U"
      },
      "source": [
        "# Define loss function\n",
        "loss_fn = F.mse_loss"
      ],
      "execution_count": null,
      "outputs": []
    },
    {
      "cell_type": "code",
      "metadata": {
        "id": "h3MNd4Po7DM1"
      },
      "source": [
        "#loss = loss_fn(? , ?)\n",
        "#print(loss)"
      ],
      "execution_count": null,
      "outputs": []
    },
    {
      "cell_type": "code",
      "metadata": {
        "id": "Td2q3-YQ7HFo"
      },
      "source": [
        "# Define optimizer\n",
        "opt = torch.optim.SGD(model.parameters(), lr=1e-5)"
      ],
      "execution_count": null,
      "outputs": []
    },
    {
      "cell_type": "markdown",
      "metadata": {
        "id": "4dof3n2n7zpb"
      },
      "source": [
        "\n",
        "Optimizer\n",
        "\n",
        "Instead of manually manipulating the weights & biases using gradients, we can use the optimizer optim.SGD."
      ]
    },
    {
      "cell_type": "code",
      "metadata": {
        "id": "TWc24Ucn7LFX"
      },
      "source": [
        "# Define a utility function to train the model\n",
        "def fit(num_epochs, model, loss_fn, opt):\n",
        "   for epoch in range(num_epochs):\n",
        "       for xb,yb in train_dl:\n",
        "            # Generate predictions\n",
        "            pred = model(xb)\n",
        "            loss = loss_fn(pred,yb)\n",
        "            # Perform gradient descent\n",
        "            loss.backward()\n",
        "            opt.step()\n",
        "            opt.zero_grad()\n",
        "   print('Training loss: ', loss_fn(model(inputs), targets))"
      ],
      "execution_count": null,
      "outputs": []
    },
    {
      "cell_type": "markdown",
      "metadata": {
        "id": "voOCNrQ573jO"
      },
      "source": [
        "\n",
        "Train the model\n",
        "\n",
        "We are ready to train the model now. We can define a utility function fit which trains the model for a given number of epochs."
      ]
    },
    {
      "cell_type": "code",
      "metadata": {
        "colab": {
          "base_uri": "https://localhost:8080/"
        },
        "id": "lXf4ajEo7OUV",
        "outputId": "f0365289-269c-4d21-bfdc-3dec43ddc6d4"
      },
      "source": [
        "# Train the model for 100 epochs\n",
        "fit(100 , model , loss_fn, opt)"
      ],
      "execution_count": null,
      "outputs": [
        {
          "output_type": "stream",
          "name": "stdout",
          "text": [
            "Training loss:  tensor(70.2975, grad_fn=<MseLossBackward>)\n"
          ]
        }
      ]
    },
    {
      "cell_type": "code",
      "metadata": {
        "colab": {
          "base_uri": "https://localhost:8080/"
        },
        "id": "Ddq0Ifes7Rub",
        "outputId": "e8738c00-4827-498f-9dd7-ed0739891fd2"
      },
      "source": [
        "# Generate predictions\n",
        "preds = model(inputs)\n",
        "preds"
      ],
      "execution_count": null,
      "outputs": [
        {
          "output_type": "execute_result",
          "data": {
            "text/plain": [
              "tensor([[ 58.5071,  72.6277],\n",
              "        [ 78.5817,  95.8856],\n",
              "        [125.1359, 140.4850],\n",
              "        [ 28.1066,  49.4670],\n",
              "        [ 91.4957, 103.5391],\n",
              "        [ 58.5071,  72.6277],\n",
              "        [ 78.5817,  95.8856],\n",
              "        [125.1359, 140.4850],\n",
              "        [ 28.1066,  49.4670],\n",
              "        [ 91.4957, 103.5391],\n",
              "        [ 58.5071,  72.6277],\n",
              "        [ 78.5817,  95.8856],\n",
              "        [125.1359, 140.4850],\n",
              "        [ 28.1066,  49.4670],\n",
              "        [ 91.4957, 103.5391]], grad_fn=<AddmmBackward>)"
            ]
          },
          "metadata": {},
          "execution_count": 19
        }
      ]
    },
    {
      "cell_type": "code",
      "metadata": {
        "colab": {
          "base_uri": "https://localhost:8080/"
        },
        "id": "r1iwtg2l7UnC",
        "outputId": "e068d0b5-1b66-48c6-b652-827965c1bd12"
      },
      "source": [
        "# Compare with targets\n",
        "targets"
      ],
      "execution_count": null,
      "outputs": [
        {
          "output_type": "execute_result",
          "data": {
            "text/plain": [
              "tensor([[ 56.,  70.],\n",
              "        [ 81., 101.],\n",
              "        [119., 133.],\n",
              "        [ 22.,  37.],\n",
              "        [103., 119.],\n",
              "        [ 56.,  70.],\n",
              "        [ 81., 101.],\n",
              "        [119., 133.],\n",
              "        [ 22.,  37.],\n",
              "        [103., 119.],\n",
              "        [ 56.,  70.],\n",
              "        [ 81., 101.],\n",
              "        [119., 133.],\n",
              "        [ 22.,  37.],\n",
              "        [103., 119.]])"
            ]
          },
          "metadata": {},
          "execution_count": 20
        }
      ]
    }
  ]
}