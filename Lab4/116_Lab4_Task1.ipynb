{
  "nbformat": 4,
  "nbformat_minor": 0,
  "metadata": {
    "colab": {
      "name": "116_Lab4_Task1.ipynb",
      "provenance": [],
      "authorship_tag": "ABX9TyN0U4e/zDffUE2eNHKKrq+w",
      "include_colab_link": true
    },
    "kernelspec": {
      "name": "python3",
      "display_name": "Python 3"
    },
    "language_info": {
      "name": "python"
    }
  },
  "cells": [
    {
      "cell_type": "markdown",
      "metadata": {
        "id": "view-in-github",
        "colab_type": "text"
      },
      "source": [
        "<a href=\"https://colab.research.google.com/github/SanjanaPurohit2000/116_SanjanaPurohit/blob/master/Lab4/116_Lab4_Task1.ipynb\" target=\"_parent\"><img src=\"https://colab.research.google.com/assets/colab-badge.svg\" alt=\"Open In Colab\"/></a>"
      ]
    },
    {
      "cell_type": "markdown",
      "metadata": {
        "id": "2LfVi81i0eXU"
      },
      "source": [
        "Task-1: Try the algo on Same Whether dataset - OneHotEncoding of features: and Train test Division 85%-15% with Gini Index as attribute selection measure\n"
      ]
    },
    {
      "cell_type": "code",
      "metadata": {
        "id": "aBZuiAcQ0RSA"
      },
      "source": [
        "#Import library\n",
        "\n",
        "from sklearn import preprocessing\n",
        "from sklearn import datasets\n",
        "from sklearn.tree import DecisionTreeClassifier\n",
        "import pandas as pd\n",
        "import numpy as np"
      ],
      "execution_count": null,
      "outputs": []
    },
    {
      "cell_type": "code",
      "metadata": {
        "id": "Z5OM-B7p0nLO"
      },
      "source": [
        "#Predictor variables\n",
        "\n",
        "Outlook = ['Rainy', 'Rainy', 'Overcast', 'Sunny', 'Sunny', 'Sunny', 'Overcast',\n",
        "            'Rainy', 'Rainy', 'Sunny', 'Rainy','Overcast', 'Overcast', 'Sunny']\n",
        "Temperature = ['Hot', 'Hot', 'Hot', 'Mild', 'Cool', 'Cool', 'Cool',\n",
        "                'Mild', 'Cool', 'Mild', 'Mild', 'Mild', 'Hot', 'Mild']\n",
        "Humidity = ['High', 'High', 'High', 'High', 'Normal', 'Normal', 'Normal',\n",
        "            'High', 'Normal', 'Normal', 'Normal', 'High', 'Normal', 'High']\n",
        "Wind = ['False', 'True', 'False', 'False', 'False', 'True', 'True',\n",
        "            'False', 'False', 'False', 'True', 'True', 'False', 'True']\n",
        "\n",
        "#Class Label:\n",
        "Play = ['No', 'No', 'Yes', 'Yes', 'Yes', 'No', 'Yes', 'No',\n",
        "'Yes', 'Yes', 'Yes', 'Yes', 'Yes', 'No']"
      ],
      "execution_count": null,
      "outputs": []
    },
    {
      "cell_type": "code",
      "metadata": {
        "colab": {
          "base_uri": "https://localhost:8080/"
        },
        "id": "oZoBkiyC0sCS",
        "outputId": "b7938631-3483-4efd-860c-6911933fd891"
      },
      "source": [
        "#Encoding the features using one-hot encoding\n",
        "\n",
        "from sklearn.preprocessing import OneHotEncoder\n",
        "X = tuple(zip(Outlook, Temperature, Humidity, Wind))\n",
        "print(X)\n",
        "X_enc = OneHotEncoder().fit_transform(X).toarray()\n",
        "print(\"\\n\",X_enc)\n",
        "\n",
        "from sklearn.preprocessing import LabelEncoder\n",
        "le = LabelEncoder()\n",
        "Y_enc = le.fit_transform(Play)\n",
        "print(\"\\n\",Y_enc)"
      ],
      "execution_count": null,
      "outputs": [
        {
          "output_type": "stream",
          "name": "stdout",
          "text": [
            "(('Rainy', 'Hot', 'High', 'False'), ('Rainy', 'Hot', 'High', 'True'), ('Overcast', 'Hot', 'High', 'False'), ('Sunny', 'Mild', 'High', 'False'), ('Sunny', 'Cool', 'Normal', 'False'), ('Sunny', 'Cool', 'Normal', 'True'), ('Overcast', 'Cool', 'Normal', 'True'), ('Rainy', 'Mild', 'High', 'False'), ('Rainy', 'Cool', 'Normal', 'False'), ('Sunny', 'Mild', 'Normal', 'False'), ('Rainy', 'Mild', 'Normal', 'True'), ('Overcast', 'Mild', 'High', 'True'), ('Overcast', 'Hot', 'Normal', 'False'), ('Sunny', 'Mild', 'High', 'True'))\n",
            "\n",
            " [[0. 1. 0. 0. 1. 0. 1. 0. 1. 0.]\n",
            " [0. 1. 0. 0. 1. 0. 1. 0. 0. 1.]\n",
            " [1. 0. 0. 0. 1. 0. 1. 0. 1. 0.]\n",
            " [0. 0. 1. 0. 0. 1. 1. 0. 1. 0.]\n",
            " [0. 0. 1. 1. 0. 0. 0. 1. 1. 0.]\n",
            " [0. 0. 1. 1. 0. 0. 0. 1. 0. 1.]\n",
            " [1. 0. 0. 1. 0. 0. 0. 1. 0. 1.]\n",
            " [0. 1. 0. 0. 0. 1. 1. 0. 1. 0.]\n",
            " [0. 1. 0. 1. 0. 0. 0. 1. 1. 0.]\n",
            " [0. 0. 1. 0. 0. 1. 0. 1. 1. 0.]\n",
            " [0. 1. 0. 0. 0. 1. 0. 1. 0. 1.]\n",
            " [1. 0. 0. 0. 0. 1. 1. 0. 0. 1.]\n",
            " [1. 0. 0. 0. 1. 0. 0. 1. 1. 0.]\n",
            " [0. 0. 1. 0. 0. 1. 1. 0. 0. 1.]]\n",
            "\n",
            " [0 0 1 1 1 0 1 0 1 1 1 1 1 0]\n"
          ]
        }
      ]
    },
    {
      "cell_type": "code",
      "metadata": {
        "colab": {
          "base_uri": "https://localhost:8080/"
        },
        "id": "_sAAzm1k0xnW",
        "outputId": "fd85c888-5087-4f65-f441-5601f63e7234"
      },
      "source": [
        "#Merge different features to prepare dataset\n",
        "#create a tuples of different values\n",
        "\n",
        "print(\"\\nFeatures\\n\")\n",
        "for pair in X_enc:\n",
        "  print(pair)"
      ],
      "execution_count": null,
      "outputs": [
        {
          "output_type": "stream",
          "name": "stdout",
          "text": [
            "\n",
            "Features\n",
            "\n",
            "[0. 1. 0. 0. 1. 0. 1. 0. 1. 0.]\n",
            "[0. 1. 0. 0. 1. 0. 1. 0. 0. 1.]\n",
            "[1. 0. 0. 0. 1. 0. 1. 0. 1. 0.]\n",
            "[0. 0. 1. 0. 0. 1. 1. 0. 1. 0.]\n",
            "[0. 0. 1. 1. 0. 0. 0. 1. 1. 0.]\n",
            "[0. 0. 1. 1. 0. 0. 0. 1. 0. 1.]\n",
            "[1. 0. 0. 1. 0. 0. 0. 1. 0. 1.]\n",
            "[0. 1. 0. 0. 0. 1. 1. 0. 1. 0.]\n",
            "[0. 1. 0. 1. 0. 0. 0. 1. 1. 0.]\n",
            "[0. 0. 1. 0. 0. 1. 0. 1. 1. 0.]\n",
            "[0. 1. 0. 0. 0. 1. 0. 1. 0. 1.]\n",
            "[1. 0. 0. 0. 0. 1. 1. 0. 0. 1.]\n",
            "[1. 0. 0. 0. 1. 0. 0. 1. 1. 0.]\n",
            "[0. 0. 1. 0. 0. 1. 1. 0. 0. 1.]\n"
          ]
        }
      ]
    },
    {
      "cell_type": "code",
      "metadata": {
        "colab": {
          "base_uri": "https://localhost:8080/"
        },
        "id": "y27zEg6C04KS",
        "outputId": "dfbd2109-fd85-49cd-f56d-40e11d48af95"
      },
      "source": [
        "from sklearn.model_selection import train_test_split\n",
        "\n",
        "x_train, x_test, y_train, y_test = train_test_split(X_enc, Y_enc, test_size = 0.15, random_state = 116)\n",
        "print(x_train)"
      ],
      "execution_count": null,
      "outputs": [
        {
          "output_type": "stream",
          "name": "stdout",
          "text": [
            "[[0. 0. 1. 1. 0. 0. 0. 1. 1. 0.]\n",
            " [0. 1. 0. 0. 1. 0. 1. 0. 1. 0.]\n",
            " [1. 0. 0. 0. 1. 0. 0. 1. 1. 0.]\n",
            " [0. 0. 1. 0. 0. 1. 1. 0. 1. 0.]\n",
            " [0. 1. 0. 1. 0. 0. 0. 1. 1. 0.]\n",
            " [0. 1. 0. 0. 0. 1. 0. 1. 0. 1.]\n",
            " [1. 0. 0. 0. 1. 0. 1. 0. 1. 0.]\n",
            " [0. 1. 0. 0. 1. 0. 1. 0. 0. 1.]\n",
            " [1. 0. 0. 1. 0. 0. 0. 1. 0. 1.]\n",
            " [1. 0. 0. 0. 0. 1. 1. 0. 0. 1.]\n",
            " [0. 0. 1. 1. 0. 0. 0. 1. 0. 1.]]\n"
          ]
        }
      ]
    },
    {
      "cell_type": "code",
      "metadata": {
        "colab": {
          "base_uri": "https://localhost:8080/"
        },
        "id": "A-SmdELI1EmC",
        "outputId": "f5f1eef6-60ae-4ae3-c09b-6bedfaa5474f"
      },
      "source": [
        "#Create and Train Decision Tree Classifier (using Gini)\n",
        "\n",
        "from sklearn import metrics\n",
        "\n",
        "dtc = DecisionTreeClassifier(criterion = \"gini\",\n",
        "                             random_state = 116, \n",
        "                             max_leaf_nodes=116)\n",
        "\n",
        "dtc.fit(x_train, y_train)"
      ],
      "execution_count": null,
      "outputs": [
        {
          "output_type": "execute_result",
          "data": {
            "text/plain": [
              "DecisionTreeClassifier(ccp_alpha=0.0, class_weight=None, criterion='gini',\n",
              "                       max_depth=None, max_features=None, max_leaf_nodes=116,\n",
              "                       min_impurity_decrease=0.0, min_impurity_split=None,\n",
              "                       min_samples_leaf=1, min_samples_split=2,\n",
              "                       min_weight_fraction_leaf=0.0, presort='deprecated',\n",
              "                       random_state=116, splitter='best')"
            ]
          },
          "metadata": {},
          "execution_count": 6
        }
      ]
    },
    {
      "cell_type": "code",
      "metadata": {
        "colab": {
          "base_uri": "https://localhost:8080/"
        },
        "id": "3GgB8HF91KJ0",
        "outputId": "bc904155-be2a-402f-f4d5-19d14a97f3fd"
      },
      "source": [
        "# Predict the classes of test data\n",
        "y_pred = dtc.predict(x_test)\n",
        "print(\"Predicted values: \")\n",
        "print(y_pred)"
      ],
      "execution_count": null,
      "outputs": [
        {
          "output_type": "stream",
          "name": "stdout",
          "text": [
            "Predicted values: \n",
            "[0 1 1]\n"
          ]
        }
      ]
    },
    {
      "cell_type": "code",
      "metadata": {
        "colab": {
          "base_uri": "https://localhost:8080/"
        },
        "id": "3051txbm1N45",
        "outputId": "36a6de33-122f-490c-f503-fd228a805e4c"
      },
      "source": [
        "# Model Accuracy\n",
        "from sklearn import metrics\n",
        "from sklearn.metrics import precision_score\n",
        "from sklearn.metrics import recall_score\n",
        "\n",
        "print(\"Confusion Matrix: \", metrics.confusion_matrix(y_test, y_pred))\n",
        "print (\"Accuracy : \", metrics.accuracy_score(y_test,y_pred)*100)\n",
        "print(\"Report : \", metrics.classification_report(y_test, y_pred))"
      ],
      "execution_count": null,
      "outputs": [
        {
          "output_type": "stream",
          "name": "stdout",
          "text": [
            "Confusion Matrix:  [[1 1]\n",
            " [0 1]]\n",
            "Accuracy :  66.66666666666666\n",
            "Report :                precision    recall  f1-score   support\n",
            "\n",
            "           0       1.00      0.50      0.67         2\n",
            "           1       0.50      1.00      0.67         1\n",
            "\n",
            "    accuracy                           0.67         3\n",
            "   macro avg       0.75      0.75      0.67         3\n",
            "weighted avg       0.83      0.67      0.67         3\n",
            "\n"
          ]
        }
      ]
    }
  ]
}