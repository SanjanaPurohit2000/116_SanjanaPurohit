{
  "nbformat": 4,
  "nbformat_minor": 0,
  "metadata": {
    "colab": {
      "name": "116_Lab3_task1.ipynb",
      "provenance": [],
      "authorship_tag": "ABX9TyMFBueO98H5Y6lPFmkukCsw",
      "include_colab_link": true
    },
    "kernelspec": {
      "name": "python3",
      "display_name": "Python 3"
    },
    "language_info": {
      "name": "python"
    }
  },
  "cells": [
    {
      "cell_type": "markdown",
      "metadata": {
        "id": "view-in-github",
        "colab_type": "text"
      },
      "source": [
        "<a href=\"https://colab.research.google.com/github/SanjanaPurohit2000/116_SanjanaPurohit/blob/master/Lab3/116_Lab3_task1.ipynb\" target=\"_parent\"><img src=\"https://colab.research.google.com/assets/colab-badge.svg\" alt=\"Open In Colab\"/></a>"
      ]
    },
    {
      "cell_type": "markdown",
      "metadata": {
        "id": "W2D7Mon3wdmv"
      },
      "source": [
        "Task 1 :- Try the algo on Dataset3 - OneHotEncoding of features : and train test division 85% - 15%.\n",
        "\n"
      ]
    },
    {
      "cell_type": "code",
      "metadata": {
        "colab": {
          "base_uri": "https://localhost:8080/"
        },
        "id": "NTDRFA2QwhxG",
        "outputId": "86079028-09a4-422d-c2f4-905a1d154c1f"
      },
      "source": [
        "from google.colab import drive\n",
        "drive.mount('/content/drive')"
      ],
      "execution_count": null,
      "outputs": [
        {
          "output_type": "stream",
          "name": "stdout",
          "text": [
            "Mounted at /content/drive\n"
          ]
        }
      ]
    },
    {
      "cell_type": "code",
      "metadata": {
        "id": "sBs_nlCLwoXd"
      },
      "source": [
        "#import libraries\n",
        "\n",
        "import numpy as np \n",
        "import pandas as pd\n",
        "from sklearn import preprocessing\n",
        "from sklearn.naive_bayes import GaussianNB, MultinomialNB"
      ],
      "execution_count": null,
      "outputs": []
    },
    {
      "cell_type": "code",
      "metadata": {
        "colab": {
          "base_uri": "https://localhost:8080/"
        },
        "id": "9m0HerFKw09V",
        "outputId": "365d8663-f6ec-4977-891e-e1f6d225349c"
      },
      "source": [
        "#prepare dataset\n",
        "\n",
        "dataset = pd.read_csv('/content/drive/My Drive/ML/L3/Dataset3.csv')\n",
        "print(\"Data :- \\n\",dataset)\n",
        "print(\"Data Statistics :- \\n\",dataset.describe())"
      ],
      "execution_count": null,
      "outputs": [
        {
          "output_type": "stream",
          "name": "stdout",
          "text": [
            "Data :- \n",
            "    Outlook Temp Wind  Humidity  Class\n",
            "0        R    H    F         1      0\n",
            "1        R    H    T         2      0\n",
            "2        O    H    F         1      1\n",
            "3        R    M    F         1      1\n",
            "4        S    C    F         1      1\n",
            "5        O    C    T         0      0\n",
            "6        O    C    T         1      1\n",
            "7        R    M    F         1      0\n",
            "8        O    C    F         0      1\n",
            "9        S    M    F         2      1\n",
            "10       R    C    T         2      0\n",
            "11       O    M    T         0      1\n",
            "12       O    H    F         1      1\n",
            "13       S    M    T         1      0\n",
            "Data Statistics :- \n",
            "         Humidity      Class\n",
            "count  14.000000  14.000000\n",
            "mean    1.000000   0.571429\n",
            "std     0.679366   0.513553\n",
            "min     0.000000   0.000000\n",
            "25%     1.000000   0.000000\n",
            "50%     1.000000   1.000000\n",
            "75%     1.000000   1.000000\n",
            "max     2.000000   1.000000\n"
          ]
        }
      ]
    },
    {
      "cell_type": "code",
      "metadata": {
        "colab": {
          "base_uri": "https://localhost:8080/"
        },
        "id": "dspzE0RMxWcl",
        "outputId": "b86856c9-f9d4-4168-de7b-4bc04bba7a21"
      },
      "source": [
        "col_list = [\"Outlook\", \"Temp\", \"Wind\", \"Humidity\", \"Class\"]\n",
        "df = pd.read_csv(\"/content/drive/My Drive/ML/L3/Dataset3.csv\", usecols=col_list)\n",
        "\n",
        "outlook = df[\"Outlook\"]\n",
        "print(outlook)\n",
        "temp = df[\"Temp\"]\n",
        "print(temp)\n",
        "wind = df[\"Wind\"]\n",
        "print(wind)\n",
        "humidity = df[\"Humidity\"]\n",
        "print(humidity)\n",
        "play = df[\"Class\"]\n",
        "print(play)"
      ],
      "execution_count": null,
      "outputs": [
        {
          "output_type": "stream",
          "name": "stdout",
          "text": [
            "0     R\n",
            "1     R\n",
            "2     O\n",
            "3     R\n",
            "4     S\n",
            "5     O\n",
            "6     O\n",
            "7     R\n",
            "8     O\n",
            "9     S\n",
            "10    R\n",
            "11    O\n",
            "12    O\n",
            "13    S\n",
            "Name: Outlook, dtype: object\n",
            "0     H\n",
            "1     H\n",
            "2     H\n",
            "3     M\n",
            "4     C\n",
            "5     C\n",
            "6     C\n",
            "7     M\n",
            "8     C\n",
            "9     M\n",
            "10    C\n",
            "11    M\n",
            "12    H\n",
            "13    M\n",
            "Name: Temp, dtype: object\n",
            "0     F\n",
            "1     T\n",
            "2     F\n",
            "3     F\n",
            "4     F\n",
            "5     T\n",
            "6     T\n",
            "7     F\n",
            "8     F\n",
            "9     F\n",
            "10    T\n",
            "11    T\n",
            "12    F\n",
            "13    T\n",
            "Name: Wind, dtype: object\n",
            "0     1\n",
            "1     2\n",
            "2     1\n",
            "3     1\n",
            "4     1\n",
            "5     0\n",
            "6     1\n",
            "7     1\n",
            "8     0\n",
            "9     2\n",
            "10    2\n",
            "11    0\n",
            "12    1\n",
            "13    1\n",
            "Name: Humidity, dtype: int64\n",
            "0     0\n",
            "1     0\n",
            "2     1\n",
            "3     1\n",
            "4     1\n",
            "5     0\n",
            "6     1\n",
            "7     0\n",
            "8     1\n",
            "9     1\n",
            "10    0\n",
            "11    1\n",
            "12    1\n",
            "13    0\n",
            "Name: Class, dtype: int64\n"
          ]
        }
      ]
    },
    {
      "cell_type": "code",
      "metadata": {
        "colab": {
          "base_uri": "https://localhost:8080/"
        },
        "id": "QR1mSHH_ymZJ",
        "outputId": "469ef891-1e26-4ca8-c6c2-51341f6f2aac"
      },
      "source": [
        "#Digitize the data set using encoding\n",
        "\n",
        "from sklearn.preprocessing import OneHotEncoder\n",
        "\n",
        "X = tuple(zip(outlook, temp, humidity, wind))\n",
        "print(X)\n",
        "\n",
        "X_enc = OneHotEncoder().fit_transform(X).toarray()\n",
        "print(\"\\n\",X_enc)\n",
        "\n",
        "from sklearn.preprocessing import LabelEncoder\n",
        "le = LabelEncoder()\n",
        "Y_enc = le.fit_transform(play)\n",
        "print(\"\\n\",Y_enc)\n"
      ],
      "execution_count": null,
      "outputs": [
        {
          "output_type": "stream",
          "name": "stdout",
          "text": [
            "(('R', 'H', 1, 'F'), ('R', 'H', 2, 'T'), ('O', 'H', 1, 'F'), ('R', 'M', 1, 'F'), ('S', 'C', 1, 'F'), ('O', 'C', 0, 'T'), ('O', 'C', 1, 'T'), ('R', 'M', 1, 'F'), ('O', 'C', 0, 'F'), ('S', 'M', 2, 'F'), ('R', 'C', 2, 'T'), ('O', 'M', 0, 'T'), ('O', 'H', 1, 'F'), ('S', 'M', 1, 'T'))\n",
            "\n",
            " [[0. 1. 0. 0. 1. 0. 0. 1. 0. 1. 0.]\n",
            " [0. 1. 0. 0. 1. 0. 0. 0. 1. 0. 1.]\n",
            " [1. 0. 0. 0. 1. 0. 0. 1. 0. 1. 0.]\n",
            " [0. 1. 0. 0. 0. 1. 0. 1. 0. 1. 0.]\n",
            " [0. 0. 1. 1. 0. 0. 0. 1. 0. 1. 0.]\n",
            " [1. 0. 0. 1. 0. 0. 1. 0. 0. 0. 1.]\n",
            " [1. 0. 0. 1. 0. 0. 0. 1. 0. 0. 1.]\n",
            " [0. 1. 0. 0. 0. 1. 0. 1. 0. 1. 0.]\n",
            " [1. 0. 0. 1. 0. 0. 1. 0. 0. 1. 0.]\n",
            " [0. 0. 1. 0. 0. 1. 0. 0. 1. 1. 0.]\n",
            " [0. 1. 0. 1. 0. 0. 0. 0. 1. 0. 1.]\n",
            " [1. 0. 0. 0. 0. 1. 1. 0. 0. 0. 1.]\n",
            " [1. 0. 0. 0. 1. 0. 0. 1. 0. 1. 0.]\n",
            " [0. 0. 1. 0. 0. 1. 0. 1. 0. 0. 1.]]\n",
            "\n",
            " [0 0 1 1 1 0 1 0 1 1 0 1 1 0]\n"
          ]
        }
      ]
    },
    {
      "cell_type": "code",
      "metadata": {
        "colab": {
          "base_uri": "https://localhost:8080/"
        },
        "id": "3wwbD_R5yuBS",
        "outputId": "e566aa60-7c6e-4867-908c-3fb8838c2873"
      },
      "source": [
        "#merge different features to prepare dataset\n",
        "\n",
        "print(\"\\nFeatures\\n\")\n",
        "for pair in X_enc:\n",
        "  print(pair)"
      ],
      "execution_count": null,
      "outputs": [
        {
          "output_type": "stream",
          "name": "stdout",
          "text": [
            "\n",
            "Features\n",
            "\n",
            "[0. 1. 0. 0. 1. 0. 0. 1. 0. 1. 0.]\n",
            "[0. 1. 0. 0. 1. 0. 0. 0. 1. 0. 1.]\n",
            "[1. 0. 0. 0. 1. 0. 0. 1. 0. 1. 0.]\n",
            "[0. 1. 0. 0. 0. 1. 0. 1. 0. 1. 0.]\n",
            "[0. 0. 1. 1. 0. 0. 0. 1. 0. 1. 0.]\n",
            "[1. 0. 0. 1. 0. 0. 1. 0. 0. 0. 1.]\n",
            "[1. 0. 0. 1. 0. 0. 0. 1. 0. 0. 1.]\n",
            "[0. 1. 0. 0. 0. 1. 0. 1. 0. 1. 0.]\n",
            "[1. 0. 0. 1. 0. 0. 1. 0. 0. 1. 0.]\n",
            "[0. 0. 1. 0. 0. 1. 0. 0. 1. 1. 0.]\n",
            "[0. 1. 0. 1. 0. 0. 0. 0. 1. 0. 1.]\n",
            "[1. 0. 0. 0. 0. 1. 1. 0. 0. 0. 1.]\n",
            "[1. 0. 0. 0. 1. 0. 0. 1. 0. 1. 0.]\n",
            "[0. 0. 1. 0. 0. 1. 0. 1. 0. 0. 1.]\n"
          ]
        }
      ]
    },
    {
      "cell_type": "code",
      "metadata": {
        "colab": {
          "base_uri": "https://localhost:8080/"
        },
        "id": "QkrDAnf8yyxx",
        "outputId": "07d3dd50-2578-4fbf-9647-b00e73dec11a"
      },
      "source": [
        "from sklearn.model_selection import train_test_split\n",
        "\n",
        "x_train, x_test, y_train, y_test = train_test_split(X_enc, Y_enc, test_size = 0.15, random_state = 116)\n",
        "print(x_train)"
      ],
      "execution_count": null,
      "outputs": [
        {
          "output_type": "stream",
          "name": "stdout",
          "text": [
            "[[0. 0. 1. 1. 0. 0. 0. 1. 0. 1. 0.]\n",
            " [0. 1. 0. 0. 1. 0. 0. 1. 0. 1. 0.]\n",
            " [1. 0. 0. 0. 1. 0. 0. 1. 0. 1. 0.]\n",
            " [0. 1. 0. 0. 0. 1. 0. 1. 0. 1. 0.]\n",
            " [1. 0. 0. 1. 0. 0. 1. 0. 0. 1. 0.]\n",
            " [0. 1. 0. 1. 0. 0. 0. 0. 1. 0. 1.]\n",
            " [1. 0. 0. 0. 1. 0. 0. 1. 0. 1. 0.]\n",
            " [0. 1. 0. 0. 1. 0. 0. 0. 1. 0. 1.]\n",
            " [1. 0. 0. 1. 0. 0. 0. 1. 0. 0. 1.]\n",
            " [1. 0. 0. 0. 0. 1. 1. 0. 0. 0. 1.]\n",
            " [1. 0. 0. 1. 0. 0. 1. 0. 0. 0. 1.]]\n"
          ]
        }
      ]
    },
    {
      "cell_type": "code",
      "metadata": {
        "colab": {
          "base_uri": "https://localhost:8080/"
        },
        "id": "IFwYA1HXy-Mq",
        "outputId": "4b723ec7-feb0-4901-9218-85d0d0e7aeec"
      },
      "source": [
        "#Create and train NBClassifier\n",
        "\n",
        "model = MultinomialNB()\n",
        "model.fit(x_train, y_train)"
      ],
      "execution_count": null,
      "outputs": [
        {
          "output_type": "execute_result",
          "data": {
            "text/plain": [
              "MultinomialNB(alpha=1.0, class_prior=None, fit_prior=True)"
            ]
          },
          "metadata": {},
          "execution_count": 12
        }
      ]
    },
    {
      "cell_type": "code",
      "metadata": {
        "colab": {
          "base_uri": "https://localhost:8080/"
        },
        "id": "KZc0dyzAzBn2",
        "outputId": "b088179c-aa5b-4920-f396-0645e0f91fb0"
      },
      "source": [
        "#Predict New Output Data\n",
        "\n",
        "y_predicted = model.predict(x_test)\n",
        "print(x_test)\n",
        "print('\\n', y_predicted)"
      ],
      "execution_count": null,
      "outputs": [
        {
          "output_type": "stream",
          "name": "stdout",
          "text": [
            "[[0. 0. 1. 0. 0. 1. 0. 1. 0. 0. 1.]\n",
            " [0. 0. 1. 0. 0. 1. 0. 0. 1. 1. 0.]\n",
            " [0. 1. 0. 0. 0. 1. 0. 1. 0. 1. 0.]]\n",
            "\n",
            " [1 1 1]\n"
          ]
        }
      ]
    },
    {
      "cell_type": "code",
      "metadata": {
        "colab": {
          "base_uri": "https://localhost:8080/"
        },
        "id": "U_V4ueRSzIEx",
        "outputId": "07f021e3-b0e6-4d7d-a63a-f5e4fc870b24"
      },
      "source": [
        "#Model Perfomance\n",
        "\n",
        "from sklearn import metrics\n",
        "from sklearn.metrics import precision_score\n",
        "from sklearn.metrics import recall_score\n",
        "\n",
        "print('Accuracy is :- ',metrics.accuracy_score(y_test, y_predicted))\n",
        "\n",
        "#precision and recall\n",
        "precision = precision_score(y_test, y_predicted)\n",
        "recall = recall_score(y_test, y_predicted)\n",
        "print('Precision :- ', precision)\n",
        "print('Recall :- ',recall)"
      ],
      "execution_count": null,
      "outputs": [
        {
          "output_type": "stream",
          "name": "stdout",
          "text": [
            "Accuracy is :-  0.3333333333333333\n",
            "Precision :-  0.3333333333333333\n",
            "Recall :-  1.0\n"
          ]
        }
      ]
    },
    {
      "cell_type": "code",
      "metadata": {
        "colab": {
          "base_uri": "https://localhost:8080/"
        },
        "id": "LGqXUaFvzISj",
        "outputId": "30c60005-3202-4ecd-e4f1-f9b966d09a67"
      },
      "source": [
        "#Question For Task1\n",
        "\n",
        "#(1) What will be the value of Play, if Outlook is ’Rainy’, Temperature is ’Mild’, Humidity =’Normal’, and Wind = ’False’?\n",
        "\n",
        "#Outlook(O, R, S) = Rainy, Temp(C, H, M) = Mild, Humidity(high, low, normal) = Normal, Wind(F, T) = False\n",
        "output = model.predict([[0,1,0, 0,0,1, 0,0,1, 1,0]])\n",
        "print('Prediction  :-   ', output)\n",
        "\n",
        "#(2) What will be the value of Play, if Outlook is ’Sunny’, Temeprature is ’Cool’, Humidity =’High’, and Wind = ’True’?\n",
        "\n",
        "#Outlook(O, R, S) = Sunny, Temp(C, H, M) = Cool, Humidity(high, low, normal) = High, Wind(F, T) = True\n",
        "output = model.predict([[0,0,1, 1,0,0, 1,0,0, 0,1]])\n",
        "print('Prediction  :-  ', output)"
      ],
      "execution_count": null,
      "outputs": [
        {
          "output_type": "stream",
          "name": "stdout",
          "text": [
            "Prediction  :-    [0]\n",
            "Prediction  :-   [1]\n"
          ]
        }
      ]
    },
    {
      "cell_type": "code",
      "metadata": {
        "id": "1BRs4bh3zRf5"
      },
      "source": [
        "#Create And Train Gaussian NB Clssifier\n",
        "gnb = GaussianNB()\n",
        "\n",
        "gnb.fit(x_train, y_train)   #train the model using training sets\n",
        "\n",
        "target_prediction = gnb.predict(x_test)  #predict the response of test dataset"
      ],
      "execution_count": null,
      "outputs": []
    }
  ]
}