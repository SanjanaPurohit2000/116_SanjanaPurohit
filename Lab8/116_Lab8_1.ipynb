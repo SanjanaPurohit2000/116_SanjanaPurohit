{
  "nbformat": 4,
  "nbformat_minor": 0,
  "metadata": {
    "colab": {
      "name": "116_Lab8_1.ipynb",
      "provenance": [],
      "authorship_tag": "ABX9TyNMkzruCnQzGX9DJe+Zbcue",
      "include_colab_link": true
    },
    "kernelspec": {
      "name": "python3",
      "display_name": "Python 3"
    },
    "language_info": {
      "name": "python"
    }
  },
  "cells": [
    {
      "cell_type": "markdown",
      "metadata": {
        "id": "view-in-github",
        "colab_type": "text"
      },
      "source": [
        "<a href=\"https://colab.research.google.com/github/SanjanaPurohit2000/116_SanjanaPurohit/blob/master/Lab8/116_Lab8_1.ipynb\" target=\"_parent\"><img src=\"https://colab.research.google.com/assets/colab-badge.svg\" alt=\"Open In Colab\"/></a>"
      ]
    },
    {
      "cell_type": "markdown",
      "metadata": {
        "id": "UGIOH9r_iUx1"
      },
      "source": [
        "**Aim :** To implement K-Means clustering using scikit-learn library for unlabeled and labeled data.\n",
        "\n",
        "**Excercise:** Write a python program to perform K-Means clustering on Breast Cancer Data"
      ]
    },
    {
      "cell_type": "markdown",
      "metadata": {
        "id": "ArhXx-FfirEi"
      },
      "source": [
        "**Import Libraries**"
      ]
    },
    {
      "cell_type": "code",
      "metadata": {
        "id": "eolpouohirpe"
      },
      "source": [
        "import numpy as np \n",
        "import pandas as pd \n",
        "from sklearn import datasets\n",
        "from sklearn.cluster import KMeans\n",
        "import matplotlib.pyplot as plt"
      ],
      "execution_count": 1,
      "outputs": []
    },
    {
      "cell_type": "markdown",
      "metadata": {
        "id": "BT488r1OizJG"
      },
      "source": [
        "**Prepare Data**"
      ]
    },
    {
      "cell_type": "code",
      "metadata": {
        "colab": {
          "base_uri": "https://localhost:8080/"
        },
        "id": "9U45W4oQi3GV",
        "outputId": "13db3d9a-ade8-45a7-f54e-ac6a40ba0dcd"
      },
      "source": [
        "dataset=datasets.load_breast_cancer()\n",
        "dataset\n",
        "\n",
        "print(dataset.data.shape)\n",
        "print(dataset.target.shape)"
      ],
      "execution_count": 2,
      "outputs": [
        {
          "output_type": "stream",
          "name": "stdout",
          "text": [
            "(569, 30)\n",
            "(569,)\n"
          ]
        }
      ]
    },
    {
      "cell_type": "markdown",
      "metadata": {
        "id": "0a557Vnti7sN"
      },
      "source": [
        "**K-Mean Model**"
      ]
    },
    {
      "cell_type": "code",
      "metadata": {
        "colab": {
          "base_uri": "https://localhost:8080/"
        },
        "id": "YJoFmKZ0i9TM",
        "outputId": "9a0815d5-df86-4f1d-b22d-5124ef515131"
      },
      "source": [
        "kmeans = KMeans(n_clusters=10, random_state=116)\n",
        "prediction = kmeans.fit_predict(dataset.data)\n",
        "print(prediction)\n",
        "\n",
        "kmeans.cluster_centers_.shape\n",
        "print(kmeans.cluster_centers_)"
      ],
      "execution_count": 3,
      "outputs": [
        {
          "output_type": "stream",
          "name": "stdout",
          "text": [
            "[4 4 0 9 0 1 0 1 1 1 5 7 7 5 1 5 5 7 8 1 9 3 5 8 4 7 5 7 7 7 0 1 7 4 7 7 1\n",
            " 9 1 1 1 9 0 1 1 0 3 1 9 1 9 1 9 7 5 9 4 5 9 3 3 3 5 3 1 5 3 9 3 9 4 3 0 1\n",
            " 9 7 9 0 0 9 9 9 2 7 9 0 1 0 9 1 1 1 1 1 5 0 9 3 9 1 1 3 9 3 3 1 9 9 8 9 3\n",
            " 9 1 3 3 9 3 5 7 7 9 0 8 1 9 1 1 0 1 0 9 5 7 5 0 9 9 9 5 3 3 7 9 9 3 9 9 1\n",
            " 1 1 9 3 3 3 1 9 7 5 9 9 9 0 4 9 8 1 3 7 0 1 9 5 5 3 3 3 3 5 9 9 2 4 7 9 5\n",
            " 3 7 9 9 9 1 9 3 1 1 9 1 7 0 5 9 7 4 5 9 5 3 7 9 5 0 9 2 5 1 1 9 3 4 8 1 1\n",
            " 3 5 1 1 3 1 9 1 7 9 9 4 3 1 2 0 1 7 1 9 9 1 0 3 9 9 3 9 4 9 4 7 4 1 4 5 7\n",
            " 5 4 7 7 5 7 2 3 1 9 3 1 9 8 3 7 9 9 7 1 1 0 9 0 5 9 9 9 9 3 9 1 1 9 9 9 1\n",
            " 3 9 1 3 4 9 0 3 9 9 9 3 1 1 9 1 9 9 3 9 9 0 3 9 3 0 9 4 9 9 1 9 5 5 5 9 3\n",
            " 9 9 7 9 4 3 2 1 3 3 0 9 3 9 5 9 9 9 5 2 5 9 9 9 1 3 3 9 9 9 5 1 4 0 9 2 8\n",
            " 7 1 0 4 1 5 3 1 1 9 9 3 9 9 9 1 9 1 9 7 3 3 7 4 9 1 1 9 9 9 7 9 9 9 9 9 5\n",
            " 9 7 9 9 9 3 5 5 9 3 0 9 9 9 1 9 1 3 3 3 9 3 9 1 9 0 0 1 1 9 1 1 1 9 7 1 3\n",
            " 7 9 7 1 1 4 9 0 9 1 9 1 9 9 9 3 0 6 1 9 1 1 1 3 7 9 3 9 5 9 3 9 1 1 9 5 9\n",
            " 1 1 1 5 9 1 0 9 5 9 7 7 9 1 1 9 9 0 4 1 1 9 2 3 3 9 3 5 5 9 1 1 1 5 9 0 0\n",
            " 9 9 3 2 3 1 3 3 1 9 1 9 9 9 1 0 3 4 1 9 3 3 9 1 1 9 1 1 3 3 3 9 3 3 9 3 9\n",
            " 3 3 3 1 9 1 3 5 4 4 0 5 4 3]\n",
            "[[1.91739024e+01 2.14331707e+01 1.26473171e+02 1.14431707e+03\n",
            "  9.99746341e-02 1.43041463e-01 1.68712927e-01 9.67560976e-02\n",
            "  1.93782927e-01 6.00136585e-02 7.10575610e-01 1.25866585e+00\n",
            "  4.91992683e+00 8.55463415e+01 6.88109756e-03 3.26992683e-02\n",
            "  4.44595122e-02 1.62545854e-02 2.27600000e-02 3.92531707e-03\n",
            "  2.30341463e+01 2.84475610e+01 1.53239024e+02 1.61682927e+03\n",
            "  1.38517073e-01 3.43490244e-01 4.37446341e-01 1.83580488e-01\n",
            "  3.18048780e-01 8.46558537e-02]\n",
            " [1.39387395e+01 1.90294958e+01 9.04831933e+01 6.00262185e+02\n",
            "  9.39314286e-02 1.00406387e-01 7.45220756e-02 4.14941345e-02\n",
            "  1.75155462e-01 6.16680672e-02 3.13209244e-01 1.08587899e+00\n",
            "  2.26420084e+00 2.71161345e+01 5.84906723e-03 2.42642689e-02\n",
            "  2.82606723e-02 1.11375714e-02 1.78284202e-02 3.49648571e-03\n",
            "  1.57033613e+01 2.55010924e+01 1.03702605e+02 7.57455462e+02\n",
            "  1.28325294e-01 2.62771765e-01 2.65218908e-01 1.12402101e-01\n",
            "  2.83356303e-01 8.43820168e-02]\n",
            " [2.43160000e+01 2.23750000e+01 1.61910000e+02 1.85420000e+03\n",
            "  1.03174000e-01 1.68032000e-01 2.35580000e-01 1.40631000e-01\n",
            "  1.79210000e-01 5.89640000e-02 1.23297000e+00 1.14835000e+00\n",
            "  8.82800000e+00 1.99120000e+02 6.61970000e-03 2.92370000e-02\n",
            "  3.93590000e-02 1.50810000e-02 1.95370000e-02 3.44310000e-03\n",
            "  3.09990000e+01 2.98160000e+01 2.08940000e+02 2.93600000e+03\n",
            "  1.40180000e-01 3.64520000e-01 4.68620000e-01 2.28060000e-01\n",
            "  2.76880000e-01 8.10070000e-02]\n",
            " [9.87515385e+00 1.78310989e+01 6.31275824e+01 2.99732967e+02\n",
            "  9.64635165e-02 8.09469231e-02 4.46973846e-02 1.89206154e-02\n",
            "  1.83812088e-01 6.83807692e-02 2.95191209e-01 1.51460549e+00\n",
            "  2.02103187e+00 1.79611868e+01 9.95848352e-03 2.56543407e-02\n",
            "  3.31990110e-02 1.02651538e-02 2.54141758e-02 4.97217582e-03\n",
            "  1.08238352e+01 2.29446154e+01 6.97957143e+01 3.58796703e+02\n",
            "  1.31465934e-01 1.64161758e-01 1.40192637e-01 5.34132967e-02\n",
            "  2.73173626e-01 8.52007692e-02]\n",
            " [2.01264286e+01 2.20664286e+01 1.33635714e+02 1.26355714e+03\n",
            "  1.03847143e-01 1.63308571e-01 2.02574643e-01 1.11641429e-01\n",
            "  1.95103571e-01 6.18132143e-02 7.31428571e-01 1.03585000e+00\n",
            "  5.11496429e+00 9.43782143e+01 6.05421429e-03 3.13446429e-02\n",
            "  4.33650000e-02 1.55406429e-02 1.75432143e-02 3.88939286e-03\n",
            "  2.52732143e+01 2.94060714e+01 1.69035714e+02 1.95771429e+03\n",
            "  1.45700000e-01 4.14600000e-01 5.28875000e-01 2.16964286e-01\n",
            "  3.23660714e-01 9.24910714e-02]\n",
            " [1.54638000e+01 2.02392000e+01 1.01397600e+02 7.40524000e+02\n",
            "  1.00539400e-01 1.25822000e-01 1.23348200e-01 6.54630000e-02\n",
            "  1.85918000e-01 6.26102000e-02 3.90868000e-01 1.03997400e+00\n",
            "  2.75976000e+00 3.72140000e+01 6.65860000e-03 2.82472800e-02\n",
            "  3.78898000e-02 1.35351000e-02 1.91477200e-02 3.67792000e-03\n",
            "  1.80026000e+01 2.75786000e+01 1.19620000e+02 9.92134000e+02\n",
            "  1.41392800e-01 3.39973200e-01 3.95144000e-01 1.54146800e-01\n",
            "  3.16380000e-01 9.00534000e-02]\n",
            " [2.74200000e+01 2.62700000e+01 1.86900000e+02 2.50100000e+03\n",
            "  1.08400000e-01 1.98800000e-01 3.63500000e-01 1.68900000e-01\n",
            "  2.06100000e-01 5.62300000e-02 2.54700000e+00 1.30600000e+00\n",
            "  1.86500000e+01 5.42200000e+02 7.65000000e-03 5.37400000e-02\n",
            "  8.05500000e-02 2.59800000e-02 1.69700000e-02 4.55800000e-03\n",
            "  3.60400000e+01 3.13700000e+01 2.51200000e+02 4.25400000e+03\n",
            "  1.35700000e-01 4.25600000e-01 6.83300000e-01 2.62500000e-01\n",
            "  2.64100000e-01 7.42700000e-02]\n",
            " [1.72662222e+01 2.12826667e+01 1.13766667e+02 9.30031111e+02\n",
            "  9.96044444e-02 1.34278667e-01 1.40752222e-01 8.17808889e-02\n",
            "  1.90786667e-01 6.09995556e-02 5.76202222e-01 1.28895333e+00\n",
            "  4.13328889e+00 6.30108889e+01 6.40597778e-03 3.02990444e-02\n",
            "  3.75984444e-02 1.49950444e-02 2.00477778e-02 4.04933333e-03\n",
            "  2.05342222e+01 2.85542222e+01 1.36617778e+02 1.29620000e+03\n",
            "  1.38425333e-01 3.23276889e-01 3.89095556e-01 1.69770444e-01\n",
            "  3.12826667e-01 8.54171111e-02]\n",
            " [2.17562500e+01 2.28075000e+01 1.45100000e+02 1.47700000e+03\n",
            "  1.04848750e-01 1.73425000e-01 2.27750000e-01 1.23386250e-01\n",
            "  1.91700000e-01 5.97362500e-02 9.69037500e-01 1.37975000e+00\n",
            "  6.97225000e+00 1.38017500e+02 7.64762500e-03 4.32437500e-02\n",
            "  5.45962500e-02 1.57425000e-02 2.10350000e-02 4.16275000e-03\n",
            "  2.78337500e+01 3.07600000e+01 1.89725000e+02 2.36712500e+03\n",
            "  1.43900000e-01 4.16012500e-01 5.30550000e-01 2.22487500e-01\n",
            "  3.09287500e-01 8.39075000e-02]\n",
            " [1.21398295e+01 1.81243750e+01 7.80391477e+01 4.53930682e+02\n",
            "  9.30579545e-02 7.96476705e-02 4.52235324e-02 2.59481023e-02\n",
            "  1.74372727e-01 6.23869886e-02 2.76667614e-01 1.19831080e+00\n",
            "  1.96479489e+00 2.04931250e+01 6.79651136e-03 2.03912898e-02\n",
            "  2.40284352e-02 9.64013636e-03 2.03964205e-02 3.30967330e-03\n",
            "  1.34010227e+01 2.41963068e+01 8.71398295e+01 5.49269318e+02\n",
            "  1.26916705e-01 1.92223466e-01 1.75752653e-01 7.78560852e-02\n",
            "  2.78232386e-01 7.95895455e-02]]\n"
          ]
        }
      ]
    },
    {
      "cell_type": "markdown",
      "metadata": {
        "id": "XdoRqslcjCj5"
      },
      "source": [
        "**Scatter plot of the data points**"
      ]
    },
    {
      "cell_type": "code",
      "metadata": {
        "colab": {
          "base_uri": "https://localhost:8080/",
          "height": 197
        },
        "id": "ewLP36Y1jD2o",
        "outputId": "e3d2f46e-8fb3-49aa-8bfd-fda9cd8311bb"
      },
      "source": [
        "# Scatter plot of the data points\n",
        "import matplotlib.pyplot as plt\n",
        "fig, ax = plt.subplots(2, 5, figsize=(8, 3))\n",
        "centers = kmeans.cluster_centers_.reshape(10, 6, 5)\n",
        "for axi, center in zip(ax.flat, centers):\n",
        "  axi.set(xticks=[], yticks=[])\n",
        "  axi.imshow(center, interpolation='nearest', cmap=plt.cm.binary)"
      ],
      "execution_count": 4,
      "outputs": [
        {
          "output_type": "display_data",
          "data": {
            "image/png": "[encoded data removed]",
            "text/plain": [
              "<Figure size 576x216 with 10 Axes>"
            ]
          },
          "metadata": {}
        }
      ]
    },
    {
      "cell_type": "code",
      "metadata": {
        "id": "V5XxdP-WjHwQ"
      },
      "source": [
        "import numpy as np\n",
        "from scipy.stats import mode\n",
        "labels = np.zeros_like(prediction)\n",
        "for i in range(10):\n",
        "  mask = (prediction == i)\n",
        "  labels[mask] = mode(dataset.target[mask])[0]"
      ],
      "execution_count": 5,
      "outputs": []
    },
    {
      "cell_type": "code",
      "metadata": {
        "colab": {
          "base_uri": "https://localhost:8080/"
        },
        "id": "q62J9VrejKxL",
        "outputId": "aa7b49ae-89a4-4755-e26a-dfadde791192"
      },
      "source": [
        "from sklearn.metrics import accuracy_score\n",
        "accuracy_score(dataset.target, labels)"
      ],
      "execution_count": 6,
      "outputs": [
        {
          "output_type": "execute_result",
          "data": {
            "text/plain": [
              "0.9068541300527241"
            ]
          },
          "metadata": {},
          "execution_count": 6
        }
      ]
    },
    {
      "cell_type": "code",
      "metadata": {
        "colab": {
          "base_uri": "https://localhost:8080/",
          "height": 279
        },
        "id": "aJ9Dh7dkjOLA",
        "outputId": "8d37dc03-1650-4370-cd32-0c8731191d57"
      },
      "source": [
        "from sklearn.metrics import confusion_matrix\n",
        "import seaborn as sns\n",
        "mat = confusion_matrix(dataset.target, labels)\n",
        "ax = sns.heatmap(mat.T, square=True, annot=True, fmt='d', cbar=False,xticklabels=dataset.target_names,yticklabels=dataset.target_names)\n",
        "\n",
        "#ax.set_ylim(10,10)\n",
        "plt.xlabel('true label')\n",
        "plt.ylabel('predicted label');"
      ],
      "execution_count": 7,
      "outputs": [
        {
          "output_type": "display_data",
          "data": {
            "image/png": "[encoded data removed]",
            "text/plain": [
              "<Figure size 432x288 with 1 Axes>"
            ]
          },
          "metadata": {
            "needs_background": "light"
          }
        }
      ]
    }
  ]
}