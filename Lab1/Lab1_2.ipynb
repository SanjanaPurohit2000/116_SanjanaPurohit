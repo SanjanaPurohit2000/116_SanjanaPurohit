{
  "nbformat": 4,
  "nbformat_minor": 0,
  "metadata": {
    "colab": {
      "name": "Lab1_2.ipynb",
      "provenance": [],
      "collapsed_sections": [],
      "authorship_tag": "ABX9TyOHS9Yg8GyJYOg9z9wGOoXj",
      "include_colab_link": true
    },
    "kernelspec": {
      "name": "python3",
      "display_name": "Python 3"
    },
    "language_info": {
      "name": "python"
    }
  },
  "cells": [
    {
      "cell_type": "markdown",
      "metadata": {
        "id": "view-in-github",
        "colab_type": "text"
      },
      "source": [
        "<a href=\"https://colab.research.google.com/github/SanjanaPurohit2000/116_SanjanaPurohit/blob/master/Lab1/Lab1_2.ipynb\" target=\"_parent\"><img src=\"https://colab.research.google.com/assets/colab-badge.svg\" alt=\"Open In Colab\"/></a>"
      ]
    },
    {
      "cell_type": "code",
      "metadata": {
        "colab": {
          "base_uri": "https://localhost:8080/"
        },
        "id": "uR-EHJReRDwS",
        "outputId": "9ba00e5b-7047-4ad1-e6a7-07278c771093"
      },
      "source": [
        "from google.colab import drive\n",
        "drive.mount('/content/drive')"
      ],
      "execution_count": null,
      "outputs": [
        {
          "output_type": "stream",
          "name": "stdout",
          "text": [
            "Drive already mounted at /content/drive; to attempt to forcibly remount, call drive.mount(\"/content/drive\", force_remount=True).\n"
          ]
        }
      ]
    },
    {
      "cell_type": "code",
      "metadata": {
        "colab": {
          "base_uri": "https://localhost:8080/"
        },
        "id": "9ERvwXABSKZk",
        "outputId": "de0bb744-568d-4af8-e9a3-d6d5a4840704"
      },
      "source": [
        "import numpy as np\n",
        "import pandas as pd\n",
        "\n",
        "matrix3x2 = np.array([[4, 7], [3, 2], [1, 3]])\n",
        "matrix2x3 = np.array([[1, 5, 2], [9, 7, 5]])\n",
        "\n",
        "print('3 x 2 matrix : \\n', matrix3x2)\n",
        "print('\\n 2 x 3 matrix : \\n', matrix2x3)"
      ],
      "execution_count": null,
      "outputs": [
        {
          "output_type": "stream",
          "name": "stdout",
          "text": [
            "3 x 2 matrix : \n",
            " [[4 7]\n",
            " [3 2]\n",
            " [1 3]]\n",
            "\n",
            " 2 x 3 matrix : \n",
            " [[1 5 2]\n",
            " [9 7 5]]\n"
          ]
        }
      ]
    },
    {
      "cell_type": "code",
      "metadata": {
        "colab": {
          "base_uri": "https://localhost:8080/"
        },
        "id": "q3PyHpEkSglI",
        "outputId": "9924e30b-147e-430a-b9a6-22fc7d3f6e63"
      },
      "source": [
        "random_matrix = np.random.rand(3, 4)\n",
        "print(random_matrix)"
      ],
      "execution_count": null,
      "outputs": [
        {
          "output_type": "stream",
          "name": "stdout",
          "text": [
            "[[0.21979884 0.80544938 0.89906897 0.62568857]\n",
            " [0.6358077  0.39879675 0.86892448 0.68851151]\n",
            " [0.15337211 0.89202264 0.39906997 0.74482112]]\n"
          ]
        }
      ]
    },
    {
      "cell_type": "code",
      "metadata": {
        "colab": {
          "base_uri": "https://localhost:8080/"
        },
        "id": "U9psCIcPS7bi",
        "outputId": "8c513d56-a295-47af-d91b-ffa52b75a1e0"
      },
      "source": [
        "# matrix multiplication\n",
        "matmul = np.dot(matrix3x2, matrix2x3)\n",
        "print(matmul)"
      ],
      "execution_count": null,
      "outputs": [
        {
          "output_type": "stream",
          "name": "stdout",
          "text": [
            "[[67 69 43]\n",
            " [21 29 16]\n",
            " [28 26 17]]\n"
          ]
        }
      ]
    },
    {
      "cell_type": "code",
      "metadata": {
        "colab": {
          "base_uri": "https://localhost:8080/"
        },
        "id": "a8NKA_-ATAn5",
        "outputId": "fc1d1618-f371-45cf-b924-1ee299635b03"
      },
      "source": [
        "# elemet wise matrix multiplication\n",
        "result = [[0 for x in range(len(matrix3x2))] for y in range(len(matrix2x3[0]))]\n",
        "\n",
        "for i in range(len(matrix3x2)): \n",
        "  for j in range(len(matrix2x3[0])): \n",
        "    for k in range(len(matrix2x3)): \n",
        "      result[i][j] += matrix3x2[i][k] * matrix2x3[k][j]\n",
        " \n",
        "print('Element wise multiplication : \\n', result)"
      ],
      "execution_count": null,
      "outputs": [
        {
          "output_type": "stream",
          "name": "stdout",
          "text": [
            "Element wise multiplication : \n",
            " [[67, 69, 43], [21, 29, 16], [28, 26, 17]]\n"
          ]
        }
      ]
    },
    {
      "cell_type": "code",
      "metadata": {
        "colab": {
          "base_uri": "https://localhost:8080/"
        },
        "id": "pa7bPMz4TGj7",
        "outputId": "e5c888f5-befc-407d-afeb-24f1f7f2ce99"
      },
      "source": [
        "mean = np.mean(matrix3x2)\n",
        "print(mean)"
      ],
      "execution_count": null,
      "outputs": [
        {
          "output_type": "stream",
          "name": "stdout",
          "text": [
            "3.3333333333333335\n"
          ]
        }
      ]
    },
    {
      "cell_type": "markdown",
      "metadata": {
        "id": "SzvvxyOuT58M"
      },
      "source": [
        "6) Convert Numeric entries(columns) of mtcars.csv to Mean Centered Version"
      ]
    },
    {
      "cell_type": "code",
      "metadata": {
        "colab": {
          "base_uri": "https://localhost:8080/"
        },
        "id": "oFLVigWlT4lE",
        "outputId": "b25f976c-e36c-4ea2-99ea-79c4de8e1067"
      },
      "source": [
        "from google.colab import drive\n",
        "drive.mount('/content/drive')"
      ],
      "execution_count": null,
      "outputs": [
        {
          "output_type": "stream",
          "name": "stdout",
          "text": [
            "Drive already mounted at /content/drive; to attempt to forcibly remount, call drive.mount(\"/content/drive\", force_remount=True).\n"
          ]
        }
      ]
    },
    {
      "cell_type": "code",
      "metadata": {
        "id": "8y6Yvq5AYU-R"
      },
      "source": [
        "data=pd.read_csv('/content/drive/My Drive/ML/mtcars.csv')"
      ],
      "execution_count": null,
      "outputs": []
    },
    {
      "cell_type": "code",
      "metadata": {
        "colab": {
          "base_uri": "https://localhost:8080/"
        },
        "id": "k0v-yGH6VAJr",
        "outputId": "9fb17ac6-9dd1-4c2e-ffa1-3d102a6356d1"
      },
      "source": [
        "del data['model']\n",
        "\n",
        "meancenter = data.apply(lambda e: e - e.mean())\n",
        "print(meancenter.head())\n"
      ],
      "execution_count": null,
      "outputs": [
        {
          "output_type": "stream",
          "name": "stdout",
          "text": [
            "        mpg     cyl        disp       hp  ...      vs       am    gear    carb\n",
            "0  0.909375 -0.1875  -70.721875 -36.6875  ... -0.4375  0.59375  0.3125  1.1875\n",
            "1  0.909375 -0.1875  -70.721875 -36.6875  ... -0.4375  0.59375  0.3125  1.1875\n",
            "2  2.709375 -2.1875 -122.721875 -53.6875  ...  0.5625  0.59375  0.3125 -1.8125\n",
            "3  1.309375 -0.1875   27.278125 -36.6875  ...  0.5625 -0.40625 -0.6875 -1.8125\n",
            "4 -1.390625  1.8125  129.278125  28.3125  ... -0.4375 -0.40625 -0.6875 -0.8125\n",
            "\n",
            "[5 rows x 11 columns]\n"
          ]
        }
      ]
    }
  ]
}